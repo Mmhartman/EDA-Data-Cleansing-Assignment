{
 "cells": [
  {
   "cell_type": "code",
   "execution_count": 1,
   "id": "fbf5c785",
   "metadata": {},
   "outputs": [],
   "source": [
    "#importing the libraries\n",
    "import pandas as pd\n",
    "import numpy as np\n",
    "import matplotlib.pyplot as plt\n",
    "import seaborn as sns"
   ]
  },
  {
   "cell_type": "code",
   "execution_count": 2,
   "id": "6515e826",
   "metadata": {},
   "outputs": [
    {
     "data": {
      "text/html": [
       "<div>\n",
       "<style scoped>\n",
       "    .dataframe tbody tr th:only-of-type {\n",
       "        vertical-align: middle;\n",
       "    }\n",
       "\n",
       "    .dataframe tbody tr th {\n",
       "        vertical-align: top;\n",
       "    }\n",
       "\n",
       "    .dataframe thead th {\n",
       "        text-align: right;\n",
       "    }\n",
       "</style>\n",
       "<table border=\"1\" class=\"dataframe\">\n",
       "  <thead>\n",
       "    <tr style=\"text-align: right;\">\n",
       "      <th></th>\n",
       "      <th>Sr No</th>\n",
       "      <th>AGE</th>\n",
       "      <th>Time</th>\n",
       "      <th>Input (X)</th>\n",
       "      <th>Output (y)</th>\n",
       "      <th>HR</th>\n",
       "      <th>Height</th>\n",
       "      <th>Weight</th>\n",
       "    </tr>\n",
       "  </thead>\n",
       "  <tbody>\n",
       "    <tr>\n",
       "      <th>0</th>\n",
       "      <td>1</td>\n",
       "      <td>Under-1</td>\n",
       "      <td>3:00:00 AM</td>\n",
       "      <td>36.8</td>\n",
       "      <td>36.8</td>\n",
       "      <td>176</td>\n",
       "      <td>43</td>\n",
       "      <td>2.5</td>\n",
       "    </tr>\n",
       "    <tr>\n",
       "      <th>1</th>\n",
       "      <td>1</td>\n",
       "      <td>Under-1</td>\n",
       "      <td>4:00:00 AM</td>\n",
       "      <td>38.6</td>\n",
       "      <td>36.0</td>\n",
       "      <td>162</td>\n",
       "      <td>43</td>\n",
       "      <td>2.5</td>\n",
       "    </tr>\n",
       "    <tr>\n",
       "      <th>2</th>\n",
       "      <td>1</td>\n",
       "      <td>Under-1</td>\n",
       "      <td>5:00:00 AM</td>\n",
       "      <td>36.8</td>\n",
       "      <td>36.8</td>\n",
       "      <td>167</td>\n",
       "      <td>43</td>\n",
       "      <td>2.5</td>\n",
       "    </tr>\n",
       "    <tr>\n",
       "      <th>3</th>\n",
       "      <td>1</td>\n",
       "      <td>Under-1</td>\n",
       "      <td>6:00:00 AM</td>\n",
       "      <td>36.8</td>\n",
       "      <td>33.4</td>\n",
       "      <td>160</td>\n",
       "      <td>43</td>\n",
       "      <td>2.5</td>\n",
       "    </tr>\n",
       "    <tr>\n",
       "      <th>4</th>\n",
       "      <td>1</td>\n",
       "      <td>Under-1</td>\n",
       "      <td>7:00:00 AM</td>\n",
       "      <td>30.6</td>\n",
       "      <td>33.4</td>\n",
       "      <td>160</td>\n",
       "      <td>43</td>\n",
       "      <td>2.5</td>\n",
       "    </tr>\n",
       "    <tr>\n",
       "      <th>...</th>\n",
       "      <td>...</td>\n",
       "      <td>...</td>\n",
       "      <td>...</td>\n",
       "      <td>...</td>\n",
       "      <td>...</td>\n",
       "      <td>...</td>\n",
       "      <td>...</td>\n",
       "      <td>...</td>\n",
       "    </tr>\n",
       "    <tr>\n",
       "      <th>2790</th>\n",
       "      <td>77</td>\n",
       "      <td>Under-4</td>\n",
       "      <td>7:00:00 PM</td>\n",
       "      <td>35.6</td>\n",
       "      <td>35.8</td>\n",
       "      <td>141</td>\n",
       "      <td>47</td>\n",
       "      <td>2.8</td>\n",
       "    </tr>\n",
       "    <tr>\n",
       "      <th>2791</th>\n",
       "      <td>77</td>\n",
       "      <td>Under-4</td>\n",
       "      <td>7:30:00 PM</td>\n",
       "      <td>35.7</td>\n",
       "      <td>35.9</td>\n",
       "      <td>145</td>\n",
       "      <td>47</td>\n",
       "      <td>2.8</td>\n",
       "    </tr>\n",
       "    <tr>\n",
       "      <th>2792</th>\n",
       "      <td>77</td>\n",
       "      <td>Under-4</td>\n",
       "      <td>8:00:00 PM</td>\n",
       "      <td>35.8</td>\n",
       "      <td>36.0</td>\n",
       "      <td>148</td>\n",
       "      <td>47</td>\n",
       "      <td>2.8</td>\n",
       "    </tr>\n",
       "    <tr>\n",
       "      <th>2793</th>\n",
       "      <td>77</td>\n",
       "      <td>Under-4</td>\n",
       "      <td>8:30:00 PM</td>\n",
       "      <td>35.7</td>\n",
       "      <td>36.1</td>\n",
       "      <td>147</td>\n",
       "      <td>47</td>\n",
       "      <td>2.8</td>\n",
       "    </tr>\n",
       "    <tr>\n",
       "      <th>2794</th>\n",
       "      <td>77</td>\n",
       "      <td>Under-4</td>\n",
       "      <td>9:00:00 PM</td>\n",
       "      <td>35.6</td>\n",
       "      <td>36.0</td>\n",
       "      <td>145</td>\n",
       "      <td>47</td>\n",
       "      <td>2.8</td>\n",
       "    </tr>\n",
       "  </tbody>\n",
       "</table>\n",
       "<p>2795 rows × 8 columns</p>\n",
       "</div>"
      ],
      "text/plain": [
       "      Sr No      AGE        Time  Input (X)  Output (y)   HR  Height  Weight\n",
       "0         1  Under-1  3:00:00 AM       36.8        36.8  176      43     2.5\n",
       "1         1  Under-1  4:00:00 AM       38.6        36.0  162      43     2.5\n",
       "2         1  Under-1  5:00:00 AM       36.8        36.8  167      43     2.5\n",
       "3         1  Under-1  6:00:00 AM       36.8        33.4  160      43     2.5\n",
       "4         1  Under-1  7:00:00 AM       30.6        33.4  160      43     2.5\n",
       "...     ...      ...         ...        ...         ...  ...     ...     ...\n",
       "2790     77  Under-4  7:00:00 PM       35.6        35.8  141      47     2.8\n",
       "2791     77  Under-4  7:30:00 PM       35.7        35.9  145      47     2.8\n",
       "2792     77  Under-4  8:00:00 PM       35.8        36.0  148      47     2.8\n",
       "2793     77  Under-4  8:30:00 PM       35.7        36.1  147      47     2.8\n",
       "2794     77  Under-4  9:00:00 PM       35.6        36.0  145      47     2.8\n",
       "\n",
       "[2795 rows x 8 columns]"
      ]
     },
     "execution_count": 2,
     "metadata": {},
     "output_type": "execute_result"
    }
   ],
   "source": [
    "#Load the data into a pandas DataFrame:\n",
    "df = pd.read_csv('Hallet_LLR complete data (1) - Sheet1.csv')\n",
    "df"
   ]
  },
  {
   "cell_type": "code",
   "execution_count": 3,
   "id": "dc379e56",
   "metadata": {},
   "outputs": [
    {
     "data": {
      "text/html": [
       "<div>\n",
       "<style scoped>\n",
       "    .dataframe tbody tr th:only-of-type {\n",
       "        vertical-align: middle;\n",
       "    }\n",
       "\n",
       "    .dataframe tbody tr th {\n",
       "        vertical-align: top;\n",
       "    }\n",
       "\n",
       "    .dataframe thead th {\n",
       "        text-align: right;\n",
       "    }\n",
       "</style>\n",
       "<table border=\"1\" class=\"dataframe\">\n",
       "  <thead>\n",
       "    <tr style=\"text-align: right;\">\n",
       "      <th></th>\n",
       "      <th>Sr No</th>\n",
       "      <th>AGE</th>\n",
       "      <th>Time</th>\n",
       "      <th>Input (X)</th>\n",
       "      <th>Output (y)</th>\n",
       "      <th>HR</th>\n",
       "      <th>Height</th>\n",
       "      <th>Weight</th>\n",
       "    </tr>\n",
       "  </thead>\n",
       "  <tbody>\n",
       "    <tr>\n",
       "      <th>2790</th>\n",
       "      <td>77</td>\n",
       "      <td>Under-4</td>\n",
       "      <td>7:00:00 PM</td>\n",
       "      <td>35.6</td>\n",
       "      <td>35.8</td>\n",
       "      <td>141</td>\n",
       "      <td>47</td>\n",
       "      <td>2.8</td>\n",
       "    </tr>\n",
       "    <tr>\n",
       "      <th>2791</th>\n",
       "      <td>77</td>\n",
       "      <td>Under-4</td>\n",
       "      <td>7:30:00 PM</td>\n",
       "      <td>35.7</td>\n",
       "      <td>35.9</td>\n",
       "      <td>145</td>\n",
       "      <td>47</td>\n",
       "      <td>2.8</td>\n",
       "    </tr>\n",
       "    <tr>\n",
       "      <th>2792</th>\n",
       "      <td>77</td>\n",
       "      <td>Under-4</td>\n",
       "      <td>8:00:00 PM</td>\n",
       "      <td>35.8</td>\n",
       "      <td>36.0</td>\n",
       "      <td>148</td>\n",
       "      <td>47</td>\n",
       "      <td>2.8</td>\n",
       "    </tr>\n",
       "    <tr>\n",
       "      <th>2793</th>\n",
       "      <td>77</td>\n",
       "      <td>Under-4</td>\n",
       "      <td>8:30:00 PM</td>\n",
       "      <td>35.7</td>\n",
       "      <td>36.1</td>\n",
       "      <td>147</td>\n",
       "      <td>47</td>\n",
       "      <td>2.8</td>\n",
       "    </tr>\n",
       "    <tr>\n",
       "      <th>2794</th>\n",
       "      <td>77</td>\n",
       "      <td>Under-4</td>\n",
       "      <td>9:00:00 PM</td>\n",
       "      <td>35.6</td>\n",
       "      <td>36.0</td>\n",
       "      <td>145</td>\n",
       "      <td>47</td>\n",
       "      <td>2.8</td>\n",
       "    </tr>\n",
       "  </tbody>\n",
       "</table>\n",
       "</div>"
      ],
      "text/plain": [
       "      Sr No      AGE        Time  Input (X)  Output (y)   HR  Height  Weight\n",
       "2790     77  Under-4  7:00:00 PM       35.6        35.8  141      47     2.8\n",
       "2791     77  Under-4  7:30:00 PM       35.7        35.9  145      47     2.8\n",
       "2792     77  Under-4  8:00:00 PM       35.8        36.0  148      47     2.8\n",
       "2793     77  Under-4  8:30:00 PM       35.7        36.1  147      47     2.8\n",
       "2794     77  Under-4  9:00:00 PM       35.6        36.0  145      47     2.8"
      ]
     },
     "execution_count": 3,
     "metadata": {},
     "output_type": "execute_result"
    }
   ],
   "source": [
    "# the output will show the last 4 rows of the dataset\n",
    "df.tail()\n"
   ]
  },
  {
   "cell_type": "code",
   "execution_count": 4,
   "id": "af54fbab",
   "metadata": {},
   "outputs": [
    {
     "data": {
      "text/html": [
       "<div>\n",
       "<style scoped>\n",
       "    .dataframe tbody tr th:only-of-type {\n",
       "        vertical-align: middle;\n",
       "    }\n",
       "\n",
       "    .dataframe tbody tr th {\n",
       "        vertical-align: top;\n",
       "    }\n",
       "\n",
       "    .dataframe thead th {\n",
       "        text-align: right;\n",
       "    }\n",
       "</style>\n",
       "<table border=\"1\" class=\"dataframe\">\n",
       "  <thead>\n",
       "    <tr style=\"text-align: right;\">\n",
       "      <th></th>\n",
       "      <th>Sr No</th>\n",
       "      <th>Input (X)</th>\n",
       "      <th>Output (y)</th>\n",
       "      <th>HR</th>\n",
       "      <th>Height</th>\n",
       "      <th>Weight</th>\n",
       "    </tr>\n",
       "  </thead>\n",
       "  <tbody>\n",
       "    <tr>\n",
       "      <th>count</th>\n",
       "      <td>2795.000000</td>\n",
       "      <td>2795.000000</td>\n",
       "      <td>2795.000000</td>\n",
       "      <td>2795.000000</td>\n",
       "      <td>2795.000000</td>\n",
       "      <td>2795.000000</td>\n",
       "    </tr>\n",
       "    <tr>\n",
       "      <th>mean</th>\n",
       "      <td>44.211449</td>\n",
       "      <td>36.846869</td>\n",
       "      <td>36.929138</td>\n",
       "      <td>147.235420</td>\n",
       "      <td>45.749911</td>\n",
       "      <td>2.422279</td>\n",
       "    </tr>\n",
       "    <tr>\n",
       "      <th>std</th>\n",
       "      <td>20.936879</td>\n",
       "      <td>8.607253</td>\n",
       "      <td>6.436327</td>\n",
       "      <td>68.189436</td>\n",
       "      <td>3.725081</td>\n",
       "      <td>0.518623</td>\n",
       "    </tr>\n",
       "    <tr>\n",
       "      <th>min</th>\n",
       "      <td>1.000000</td>\n",
       "      <td>30.100000</td>\n",
       "      <td>29.800000</td>\n",
       "      <td>60.000000</td>\n",
       "      <td>31.000000</td>\n",
       "      <td>1.000000</td>\n",
       "    </tr>\n",
       "    <tr>\n",
       "      <th>25%</th>\n",
       "      <td>26.000000</td>\n",
       "      <td>36.200000</td>\n",
       "      <td>36.500000</td>\n",
       "      <td>138.000000</td>\n",
       "      <td>44.000000</td>\n",
       "      <td>2.200000</td>\n",
       "    </tr>\n",
       "    <tr>\n",
       "      <th>50%</th>\n",
       "      <td>52.000000</td>\n",
       "      <td>36.700000</td>\n",
       "      <td>37.000000</td>\n",
       "      <td>144.000000</td>\n",
       "      <td>47.000000</td>\n",
       "      <td>2.500000</td>\n",
       "    </tr>\n",
       "    <tr>\n",
       "      <th>75%</th>\n",
       "      <td>61.000000</td>\n",
       "      <td>37.000000</td>\n",
       "      <td>37.200000</td>\n",
       "      <td>154.000000</td>\n",
       "      <td>48.000000</td>\n",
       "      <td>2.750000</td>\n",
       "    </tr>\n",
       "    <tr>\n",
       "      <th>max</th>\n",
       "      <td>77.000000</td>\n",
       "      <td>367.000000</td>\n",
       "      <td>373.000000</td>\n",
       "      <td>3155.000000</td>\n",
       "      <td>52.000000</td>\n",
       "      <td>3.800000</td>\n",
       "    </tr>\n",
       "  </tbody>\n",
       "</table>\n",
       "</div>"
      ],
      "text/plain": [
       "             Sr No    Input (X)   Output (y)           HR       Height  \\\n",
       "count  2795.000000  2795.000000  2795.000000  2795.000000  2795.000000   \n",
       "mean     44.211449    36.846869    36.929138   147.235420    45.749911   \n",
       "std      20.936879     8.607253     6.436327    68.189436     3.725081   \n",
       "min       1.000000    30.100000    29.800000    60.000000    31.000000   \n",
       "25%      26.000000    36.200000    36.500000   138.000000    44.000000   \n",
       "50%      52.000000    36.700000    37.000000   144.000000    47.000000   \n",
       "75%      61.000000    37.000000    37.200000   154.000000    48.000000   \n",
       "max      77.000000   367.000000   373.000000  3155.000000    52.000000   \n",
       "\n",
       "            Weight  \n",
       "count  2795.000000  \n",
       "mean      2.422279  \n",
       "std       0.518623  \n",
       "min       1.000000  \n",
       "25%       2.200000  \n",
       "50%       2.500000  \n",
       "75%       2.750000  \n",
       "max       3.800000  "
      ]
     },
     "execution_count": 4,
     "metadata": {},
     "output_type": "execute_result"
    }
   ],
   "source": [
    "#Generate summary statistics for the numerical columns\n",
    "df.describe()"
   ]
  },
  {
   "cell_type": "code",
   "execution_count": 5,
   "id": "4b467cbe",
   "metadata": {},
   "outputs": [
    {
     "data": {
      "text/plain": [
       "Sr No         False\n",
       "AGE            True\n",
       "Time           True\n",
       "Input (X)     False\n",
       "Output (y)    False\n",
       "HR            False\n",
       "Height        False\n",
       "Weight        False\n",
       "dtype: bool"
      ]
     },
     "execution_count": 5,
     "metadata": {},
     "output_type": "execute_result"
    }
   ],
   "source": [
    "#FILTERING OUT THE COLUMNS \n",
    "#Object = non numerical data. False - numerical. True - non numerical with boolean.\n",
    "df.dtypes == 'object'"
   ]
  },
  {
   "cell_type": "code",
   "execution_count": 6,
   "id": "860c3b94",
   "metadata": {},
   "outputs": [
    {
     "name": "stdout",
     "output_type": "stream",
     "text": [
      "Index(['Sr No', 'Input (X)', 'Output (y)', 'HR', 'Height', 'Weight'], dtype='object')\n",
      "Index(['AGE', 'Time'], dtype='object')\n"
     ]
    }
   ],
   "source": [
    "#Separate Categorical and numerical columns\n",
    "num_var = df.columns[df.dtypes != 'object'] #  not object. non- categorical which is Numerical\n",
    "categ_var = df.columns[df.dtypes == 'object'] #  object. categorical\n",
    "\n",
    "print(num_var)\n",
    "print(categ_var)"
   ]
  },
  {
   "cell_type": "code",
   "execution_count": 7,
   "id": "bfb441f0",
   "metadata": {},
   "outputs": [
    {
     "name": "stdout",
     "output_type": "stream",
     "text": [
      "<class 'pandas.core.frame.DataFrame'>\n",
      "RangeIndex: 2795 entries, 0 to 2794\n",
      "Data columns (total 8 columns):\n",
      " #   Column      Non-Null Count  Dtype  \n",
      "---  ------      --------------  -----  \n",
      " 0   Sr No       2795 non-null   int64  \n",
      " 1   AGE         2795 non-null   object \n",
      " 2   Time        2795 non-null   object \n",
      " 3   Input (X)   2795 non-null   float64\n",
      " 4   Output (y)  2795 non-null   float64\n",
      " 5   HR          2795 non-null   int64  \n",
      " 6   Height      2795 non-null   int64  \n",
      " 7   Weight      2795 non-null   float64\n",
      "dtypes: float64(3), int64(3), object(2)\n",
      "memory usage: 174.8+ KB\n"
     ]
    }
   ],
   "source": [
    "df.info()"
   ]
  },
  {
   "cell_type": "code",
   "execution_count": 8,
   "id": "ad7e189e",
   "metadata": {},
   "outputs": [
    {
     "data": {
      "text/plain": [
       "Sr No           int64\n",
       "AGE            object\n",
       "Time           object\n",
       "Input (X)     float64\n",
       "Output (y)    float64\n",
       "HR              int64\n",
       "Height          int64\n",
       "Weight        float64\n",
       "dtype: object"
      ]
     },
     "execution_count": 8,
     "metadata": {},
     "output_type": "execute_result"
    }
   ],
   "source": [
    "# Check the data types of the columns:\n",
    "df.dtypes"
   ]
  },
  {
   "cell_type": "code",
   "execution_count": 9,
   "id": "e5697d2c",
   "metadata": {},
   "outputs": [
    {
     "data": {
      "text/html": [
       "<div>\n",
       "<style scoped>\n",
       "    .dataframe tbody tr th:only-of-type {\n",
       "        vertical-align: middle;\n",
       "    }\n",
       "\n",
       "    .dataframe tbody tr th {\n",
       "        vertical-align: top;\n",
       "    }\n",
       "\n",
       "    .dataframe thead th {\n",
       "        text-align: right;\n",
       "    }\n",
       "</style>\n",
       "<table border=\"1\" class=\"dataframe\">\n",
       "  <thead>\n",
       "    <tr style=\"text-align: right;\">\n",
       "      <th></th>\n",
       "      <th>Sr No</th>\n",
       "      <th>Input (X)</th>\n",
       "      <th>Output (y)</th>\n",
       "      <th>HR</th>\n",
       "      <th>Height</th>\n",
       "      <th>Weight</th>\n",
       "    </tr>\n",
       "  </thead>\n",
       "  <tbody>\n",
       "    <tr>\n",
       "      <th>0</th>\n",
       "      <td>1</td>\n",
       "      <td>36.8</td>\n",
       "      <td>36.8</td>\n",
       "      <td>176</td>\n",
       "      <td>43</td>\n",
       "      <td>2.5</td>\n",
       "    </tr>\n",
       "    <tr>\n",
       "      <th>1</th>\n",
       "      <td>1</td>\n",
       "      <td>38.6</td>\n",
       "      <td>36.0</td>\n",
       "      <td>162</td>\n",
       "      <td>43</td>\n",
       "      <td>2.5</td>\n",
       "    </tr>\n",
       "    <tr>\n",
       "      <th>2</th>\n",
       "      <td>1</td>\n",
       "      <td>36.8</td>\n",
       "      <td>36.8</td>\n",
       "      <td>167</td>\n",
       "      <td>43</td>\n",
       "      <td>2.5</td>\n",
       "    </tr>\n",
       "    <tr>\n",
       "      <th>3</th>\n",
       "      <td>1</td>\n",
       "      <td>36.8</td>\n",
       "      <td>33.4</td>\n",
       "      <td>160</td>\n",
       "      <td>43</td>\n",
       "      <td>2.5</td>\n",
       "    </tr>\n",
       "    <tr>\n",
       "      <th>4</th>\n",
       "      <td>1</td>\n",
       "      <td>30.6</td>\n",
       "      <td>33.4</td>\n",
       "      <td>160</td>\n",
       "      <td>43</td>\n",
       "      <td>2.5</td>\n",
       "    </tr>\n",
       "    <tr>\n",
       "      <th>...</th>\n",
       "      <td>...</td>\n",
       "      <td>...</td>\n",
       "      <td>...</td>\n",
       "      <td>...</td>\n",
       "      <td>...</td>\n",
       "      <td>...</td>\n",
       "    </tr>\n",
       "    <tr>\n",
       "      <th>2790</th>\n",
       "      <td>77</td>\n",
       "      <td>35.6</td>\n",
       "      <td>35.8</td>\n",
       "      <td>141</td>\n",
       "      <td>47</td>\n",
       "      <td>2.8</td>\n",
       "    </tr>\n",
       "    <tr>\n",
       "      <th>2791</th>\n",
       "      <td>77</td>\n",
       "      <td>35.7</td>\n",
       "      <td>35.9</td>\n",
       "      <td>145</td>\n",
       "      <td>47</td>\n",
       "      <td>2.8</td>\n",
       "    </tr>\n",
       "    <tr>\n",
       "      <th>2792</th>\n",
       "      <td>77</td>\n",
       "      <td>35.8</td>\n",
       "      <td>36.0</td>\n",
       "      <td>148</td>\n",
       "      <td>47</td>\n",
       "      <td>2.8</td>\n",
       "    </tr>\n",
       "    <tr>\n",
       "      <th>2793</th>\n",
       "      <td>77</td>\n",
       "      <td>35.7</td>\n",
       "      <td>36.1</td>\n",
       "      <td>147</td>\n",
       "      <td>47</td>\n",
       "      <td>2.8</td>\n",
       "    </tr>\n",
       "    <tr>\n",
       "      <th>2794</th>\n",
       "      <td>77</td>\n",
       "      <td>35.6</td>\n",
       "      <td>36.0</td>\n",
       "      <td>145</td>\n",
       "      <td>47</td>\n",
       "      <td>2.8</td>\n",
       "    </tr>\n",
       "  </tbody>\n",
       "</table>\n",
       "<p>2795 rows × 6 columns</p>\n",
       "</div>"
      ],
      "text/plain": [
       "      Sr No  Input (X)  Output (y)   HR  Height  Weight\n",
       "0         1       36.8        36.8  176      43     2.5\n",
       "1         1       38.6        36.0  162      43     2.5\n",
       "2         1       36.8        36.8  167      43     2.5\n",
       "3         1       36.8        33.4  160      43     2.5\n",
       "4         1       30.6        33.4  160      43     2.5\n",
       "...     ...        ...         ...  ...     ...     ...\n",
       "2790     77       35.6        35.8  141      47     2.8\n",
       "2791     77       35.7        35.9  145      47     2.8\n",
       "2792     77       35.8        36.0  148      47     2.8\n",
       "2793     77       35.7        36.1  147      47     2.8\n",
       "2794     77       35.6        36.0  145      47     2.8\n",
       "\n",
       "[2795 rows x 6 columns]"
      ]
     },
     "execution_count": 9,
     "metadata": {},
     "output_type": "execute_result"
    }
   ],
   "source": [
    "# will holds all the columns which are not object data type\n",
    "df[num_var]"
   ]
  },
  {
   "cell_type": "code",
   "execution_count": 10,
   "id": "6da01a6e",
   "metadata": {},
   "outputs": [
    {
     "data": {
      "text/html": [
       "<div>\n",
       "<style scoped>\n",
       "    .dataframe tbody tr th:only-of-type {\n",
       "        vertical-align: middle;\n",
       "    }\n",
       "\n",
       "    .dataframe tbody tr th {\n",
       "        vertical-align: top;\n",
       "    }\n",
       "\n",
       "    .dataframe thead th {\n",
       "        text-align: right;\n",
       "    }\n",
       "</style>\n",
       "<table border=\"1\" class=\"dataframe\">\n",
       "  <thead>\n",
       "    <tr style=\"text-align: right;\">\n",
       "      <th></th>\n",
       "      <th>Sr No</th>\n",
       "      <th>Input (X)</th>\n",
       "      <th>Output (y)</th>\n",
       "      <th>HR</th>\n",
       "      <th>Height</th>\n",
       "      <th>Weight</th>\n",
       "    </tr>\n",
       "  </thead>\n",
       "  <tbody>\n",
       "    <tr>\n",
       "      <th>0</th>\n",
       "      <td>False</td>\n",
       "      <td>False</td>\n",
       "      <td>False</td>\n",
       "      <td>False</td>\n",
       "      <td>False</td>\n",
       "      <td>False</td>\n",
       "    </tr>\n",
       "    <tr>\n",
       "      <th>1</th>\n",
       "      <td>False</td>\n",
       "      <td>False</td>\n",
       "      <td>False</td>\n",
       "      <td>False</td>\n",
       "      <td>False</td>\n",
       "      <td>False</td>\n",
       "    </tr>\n",
       "    <tr>\n",
       "      <th>2</th>\n",
       "      <td>False</td>\n",
       "      <td>False</td>\n",
       "      <td>False</td>\n",
       "      <td>False</td>\n",
       "      <td>False</td>\n",
       "      <td>False</td>\n",
       "    </tr>\n",
       "    <tr>\n",
       "      <th>3</th>\n",
       "      <td>False</td>\n",
       "      <td>False</td>\n",
       "      <td>False</td>\n",
       "      <td>False</td>\n",
       "      <td>False</td>\n",
       "      <td>False</td>\n",
       "    </tr>\n",
       "    <tr>\n",
       "      <th>4</th>\n",
       "      <td>False</td>\n",
       "      <td>False</td>\n",
       "      <td>False</td>\n",
       "      <td>False</td>\n",
       "      <td>False</td>\n",
       "      <td>False</td>\n",
       "    </tr>\n",
       "    <tr>\n",
       "      <th>...</th>\n",
       "      <td>...</td>\n",
       "      <td>...</td>\n",
       "      <td>...</td>\n",
       "      <td>...</td>\n",
       "      <td>...</td>\n",
       "      <td>...</td>\n",
       "    </tr>\n",
       "    <tr>\n",
       "      <th>2790</th>\n",
       "      <td>False</td>\n",
       "      <td>False</td>\n",
       "      <td>False</td>\n",
       "      <td>False</td>\n",
       "      <td>False</td>\n",
       "      <td>False</td>\n",
       "    </tr>\n",
       "    <tr>\n",
       "      <th>2791</th>\n",
       "      <td>False</td>\n",
       "      <td>False</td>\n",
       "      <td>False</td>\n",
       "      <td>False</td>\n",
       "      <td>False</td>\n",
       "      <td>False</td>\n",
       "    </tr>\n",
       "    <tr>\n",
       "      <th>2792</th>\n",
       "      <td>False</td>\n",
       "      <td>False</td>\n",
       "      <td>False</td>\n",
       "      <td>False</td>\n",
       "      <td>False</td>\n",
       "      <td>False</td>\n",
       "    </tr>\n",
       "    <tr>\n",
       "      <th>2793</th>\n",
       "      <td>False</td>\n",
       "      <td>False</td>\n",
       "      <td>False</td>\n",
       "      <td>False</td>\n",
       "      <td>False</td>\n",
       "      <td>False</td>\n",
       "    </tr>\n",
       "    <tr>\n",
       "      <th>2794</th>\n",
       "      <td>False</td>\n",
       "      <td>False</td>\n",
       "      <td>False</td>\n",
       "      <td>False</td>\n",
       "      <td>False</td>\n",
       "      <td>False</td>\n",
       "    </tr>\n",
       "  </tbody>\n",
       "</table>\n",
       "<p>2795 rows × 6 columns</p>\n",
       "</div>"
      ],
      "text/plain": [
       "      Sr No  Input (X)  Output (y)     HR  Height  Weight\n",
       "0     False      False       False  False   False   False\n",
       "1     False      False       False  False   False   False\n",
       "2     False      False       False  False   False   False\n",
       "3     False      False       False  False   False   False\n",
       "4     False      False       False  False   False   False\n",
       "...     ...        ...         ...    ...     ...     ...\n",
       "2790  False      False       False  False   False   False\n",
       "2791  False      False       False  False   False   False\n",
       "2792  False      False       False  False   False   False\n",
       "2793  False      False       False  False   False   False\n",
       "2794  False      False       False  False   False   False\n",
       "\n",
       "[2795 rows x 6 columns]"
      ]
     },
     "execution_count": 10,
     "metadata": {},
     "output_type": "execute_result"
    }
   ],
   "source": [
    "# 1.isnull() function to identify the missing values in the data frame\n",
    "\n",
    "#function to find out all the fields which have missing values.\n",
    "#This will return \n",
    "#TRUE = if a field has missing values \n",
    "#FALSE = if the field does not have missing values.\n",
    "\n",
    "\n",
    "df[num_var].isnull()\n",
    "# I don't see any True on column, therefore, there is no missing value"
   ]
  },
  {
   "cell_type": "code",
   "execution_count": 11,
   "id": "06bcf956",
   "metadata": {},
   "outputs": [
    {
     "data": {
      "text/plain": [
       "Sr No         0\n",
       "Input (X)     0\n",
       "Output (y)    0\n",
       "HR            0\n",
       "Height        0\n",
       "Weight        0\n",
       "dtype: int64"
      ]
     },
     "execution_count": 11,
     "metadata": {},
     "output_type": "execute_result"
    }
   ],
   "source": [
    "#2.sum() functions to get sum of all missing values per column\n",
    "\n",
    "#To get how many missing values are in each column we use sum() along with isnull()\n",
    "#This will sum up all the True’s in each column from the previous code isnull()\n",
    "\n",
    "df[num_var].isnull().sum()\n",
    "# No missing values "
   ]
  },
  {
   "cell_type": "code",
   "execution_count": 12,
   "id": "114a300f",
   "metadata": {},
   "outputs": [
    {
     "data": {
      "text/html": [
       "<div>\n",
       "<style scoped>\n",
       "    .dataframe tbody tr th:only-of-type {\n",
       "        vertical-align: middle;\n",
       "    }\n",
       "\n",
       "    .dataframe tbody tr th {\n",
       "        vertical-align: top;\n",
       "    }\n",
       "\n",
       "    .dataframe thead th {\n",
       "        text-align: right;\n",
       "    }\n",
       "</style>\n",
       "<table border=\"1\" class=\"dataframe\">\n",
       "  <thead>\n",
       "    <tr style=\"text-align: right;\">\n",
       "      <th></th>\n",
       "      <th>Sr No</th>\n",
       "      <th>AGE</th>\n",
       "      <th>Time</th>\n",
       "      <th>Input (X)</th>\n",
       "      <th>Output (y)</th>\n",
       "      <th>HR</th>\n",
       "      <th>Height</th>\n",
       "      <th>Weight</th>\n",
       "    </tr>\n",
       "  </thead>\n",
       "  <tbody>\n",
       "    <tr>\n",
       "      <th>0</th>\n",
       "      <td>1</td>\n",
       "      <td>Under-1</td>\n",
       "      <td>3:00:00 AM</td>\n",
       "      <td>36.8</td>\n",
       "      <td>36.8</td>\n",
       "      <td>176</td>\n",
       "      <td>43</td>\n",
       "      <td>2.5</td>\n",
       "    </tr>\n",
       "    <tr>\n",
       "      <th>1</th>\n",
       "      <td>1</td>\n",
       "      <td>Under-1</td>\n",
       "      <td>4:00:00 AM</td>\n",
       "      <td>38.6</td>\n",
       "      <td>36.0</td>\n",
       "      <td>162</td>\n",
       "      <td>43</td>\n",
       "      <td>2.5</td>\n",
       "    </tr>\n",
       "    <tr>\n",
       "      <th>2</th>\n",
       "      <td>1</td>\n",
       "      <td>Under-1</td>\n",
       "      <td>5:00:00 AM</td>\n",
       "      <td>36.8</td>\n",
       "      <td>36.8</td>\n",
       "      <td>167</td>\n",
       "      <td>43</td>\n",
       "      <td>2.5</td>\n",
       "    </tr>\n",
       "    <tr>\n",
       "      <th>3</th>\n",
       "      <td>1</td>\n",
       "      <td>Under-1</td>\n",
       "      <td>6:00:00 AM</td>\n",
       "      <td>36.8</td>\n",
       "      <td>33.4</td>\n",
       "      <td>160</td>\n",
       "      <td>43</td>\n",
       "      <td>2.5</td>\n",
       "    </tr>\n",
       "    <tr>\n",
       "      <th>4</th>\n",
       "      <td>1</td>\n",
       "      <td>Under-1</td>\n",
       "      <td>7:00:00 AM</td>\n",
       "      <td>30.6</td>\n",
       "      <td>33.4</td>\n",
       "      <td>160</td>\n",
       "      <td>43</td>\n",
       "      <td>2.5</td>\n",
       "    </tr>\n",
       "    <tr>\n",
       "      <th>...</th>\n",
       "      <td>...</td>\n",
       "      <td>...</td>\n",
       "      <td>...</td>\n",
       "      <td>...</td>\n",
       "      <td>...</td>\n",
       "      <td>...</td>\n",
       "      <td>...</td>\n",
       "      <td>...</td>\n",
       "    </tr>\n",
       "    <tr>\n",
       "      <th>2790</th>\n",
       "      <td>77</td>\n",
       "      <td>Under-4</td>\n",
       "      <td>7:00:00 PM</td>\n",
       "      <td>35.6</td>\n",
       "      <td>35.8</td>\n",
       "      <td>141</td>\n",
       "      <td>47</td>\n",
       "      <td>2.8</td>\n",
       "    </tr>\n",
       "    <tr>\n",
       "      <th>2791</th>\n",
       "      <td>77</td>\n",
       "      <td>Under-4</td>\n",
       "      <td>7:30:00 PM</td>\n",
       "      <td>35.7</td>\n",
       "      <td>35.9</td>\n",
       "      <td>145</td>\n",
       "      <td>47</td>\n",
       "      <td>2.8</td>\n",
       "    </tr>\n",
       "    <tr>\n",
       "      <th>2792</th>\n",
       "      <td>77</td>\n",
       "      <td>Under-4</td>\n",
       "      <td>8:00:00 PM</td>\n",
       "      <td>35.8</td>\n",
       "      <td>36.0</td>\n",
       "      <td>148</td>\n",
       "      <td>47</td>\n",
       "      <td>2.8</td>\n",
       "    </tr>\n",
       "    <tr>\n",
       "      <th>2793</th>\n",
       "      <td>77</td>\n",
       "      <td>Under-4</td>\n",
       "      <td>8:30:00 PM</td>\n",
       "      <td>35.7</td>\n",
       "      <td>36.1</td>\n",
       "      <td>147</td>\n",
       "      <td>47</td>\n",
       "      <td>2.8</td>\n",
       "    </tr>\n",
       "    <tr>\n",
       "      <th>2794</th>\n",
       "      <td>77</td>\n",
       "      <td>Under-4</td>\n",
       "      <td>9:00:00 PM</td>\n",
       "      <td>35.6</td>\n",
       "      <td>36.0</td>\n",
       "      <td>145</td>\n",
       "      <td>47</td>\n",
       "      <td>2.8</td>\n",
       "    </tr>\n",
       "  </tbody>\n",
       "</table>\n",
       "<p>2795 rows × 8 columns</p>\n",
       "</div>"
      ],
      "text/plain": [
       "      Sr No      AGE        Time  Input (X)  Output (y)   HR  Height  Weight\n",
       "0         1  Under-1  3:00:00 AM       36.8        36.8  176      43     2.5\n",
       "1         1  Under-1  4:00:00 AM       38.6        36.0  162      43     2.5\n",
       "2         1  Under-1  5:00:00 AM       36.8        36.8  167      43     2.5\n",
       "3         1  Under-1  6:00:00 AM       36.8        33.4  160      43     2.5\n",
       "4         1  Under-1  7:00:00 AM       30.6        33.4  160      43     2.5\n",
       "...     ...      ...         ...        ...         ...  ...     ...     ...\n",
       "2790     77  Under-4  7:00:00 PM       35.6        35.8  141      47     2.8\n",
       "2791     77  Under-4  7:30:00 PM       35.7        35.9  145      47     2.8\n",
       "2792     77  Under-4  8:00:00 PM       35.8        36.0  148      47     2.8\n",
       "2793     77  Under-4  8:30:00 PM       35.7        36.1  147      47     2.8\n",
       "2794     77  Under-4  9:00:00 PM       35.6        36.0  145      47     2.8\n",
       "\n",
       "[2795 rows x 8 columns]"
      ]
     },
     "execution_count": 12,
     "metadata": {},
     "output_type": "execute_result"
    }
   ],
   "source": [
    "#Remove duplicate rows:\n",
    "df = df.drop_duplicates()\n",
    "df"
   ]
  },
  {
   "cell_type": "code",
   "execution_count": 13,
   "id": "07ad0c7d",
   "metadata": {},
   "outputs": [
    {
     "data": {
      "text/plain": [
       "Sr No         0\n",
       "Input (X)     0\n",
       "Output (y)    0\n",
       "HR            0\n",
       "Height        0\n",
       "Weight        0\n",
       "dtype: int64"
      ]
     },
     "execution_count": 13,
     "metadata": {},
     "output_type": "execute_result"
    }
   ],
   "source": [
    "# 3. sort_values(ascending=False) function to get columns with the missing values in descending order.\n",
    "\n",
    "#Sorting the columns in descending order is always a good idea so you can discover which ones have the most missing values. \n",
    "#The sort values() function can be used to achieve this. This function will always sort in ascending order by default. \n",
    "# We want to set it to descending because we want the columns with the most missing values to appear first. This can be accomplished by  “ascending=False” parameter in sort_values().\n",
    "\n",
    "#.sort_values(ascending=False)\n",
    "\n",
    "df[num_var].isnull().sum().sort_values(ascending=False)"
   ]
  },
  {
   "cell_type": "code",
   "execution_count": 14,
   "id": "f211603a",
   "metadata": {},
   "outputs": [
    {
     "name": "stderr",
     "output_type": "stream",
     "text": [
      "/var/folders/k7/g4wn_mkn3mb4_83c39g3w7n00000gn/T/ipykernel_16030/2646300123.py:2: FutureWarning: Dropping of nuisance columns in DataFrame reductions (with 'numeric_only=None') is deprecated; in a future version this will raise TypeError.  Select only valid columns before calling the reduction.\n",
      "  mean = df.mean()\n"
     ]
    },
    {
     "data": {
      "text/plain": [
       "Sr No          44.211449\n",
       "Input (X)      36.846869\n",
       "Output (y)     36.929138\n",
       "HR            147.235420\n",
       "Height         45.749911\n",
       "Weight          2.422279\n",
       "dtype: float64"
      ]
     },
     "execution_count": 14,
     "metadata": {},
     "output_type": "execute_result"
    }
   ],
   "source": [
    "#MEAN\n",
    "mean = df.mean()\n",
    "\n",
    "mean\n",
    "# these are the mean output from the dataset"
   ]
  },
  {
   "cell_type": "code",
   "execution_count": 15,
   "id": "a8b95123",
   "metadata": {},
   "outputs": [
    {
     "name": "stderr",
     "output_type": "stream",
     "text": [
      "/var/folders/k7/g4wn_mkn3mb4_83c39g3w7n00000gn/T/ipykernel_16030/2617527964.py:2: FutureWarning: Dropping of nuisance columns in DataFrame reductions (with 'numeric_only=None') is deprecated; in a future version this will raise TypeError.  Select only valid columns before calling the reduction.\n",
      "  median = df.median()\n"
     ]
    },
    {
     "data": {
      "text/plain": [
       "Sr No          52.0\n",
       "Input (X)      36.7\n",
       "Output (y)     37.0\n",
       "HR            144.0\n",
       "Height         47.0\n",
       "Weight          2.5\n",
       "dtype: float64"
      ]
     },
     "execution_count": 15,
     "metadata": {},
     "output_type": "execute_result"
    }
   ],
   "source": [
    "#MEDIAN\n",
    "median = df.median()\n",
    "median\n",
    "#these are the output median calculation"
   ]
  },
  {
   "cell_type": "code",
   "execution_count": 16,
   "id": "af417494",
   "metadata": {},
   "outputs": [
    {
     "name": "stderr",
     "output_type": "stream",
     "text": [
      "/var/folders/k7/g4wn_mkn3mb4_83c39g3w7n00000gn/T/ipykernel_16030/3507046560.py:2: FutureWarning: Dropping of nuisance columns in DataFrame reductions (with 'numeric_only=None') is deprecated; in a future version this will raise TypeError.  Select only valid columns before calling the reduction.\n",
      "  standard = df.std()\n"
     ]
    },
    {
     "data": {
      "text/plain": [
       "Sr No         20.936879\n",
       "Input (X)      8.607253\n",
       "Output (y)     6.436327\n",
       "HR            68.189436\n",
       "Height         3.725081\n",
       "Weight         0.518623\n",
       "dtype: float64"
      ]
     },
     "execution_count": 16,
     "metadata": {},
     "output_type": "execute_result"
    }
   ],
   "source": [
    "# STANDARD DEVIATION\n",
    "standard = df.std()\n",
    "standard\n",
    "# these are the output of standard deviation calculation "
   ]
  },
  {
   "cell_type": "code",
   "execution_count": 17,
   "id": "9414c483",
   "metadata": {},
   "outputs": [
    {
     "data": {
      "text/html": [
       "<div>\n",
       "<style scoped>\n",
       "    .dataframe tbody tr th:only-of-type {\n",
       "        vertical-align: middle;\n",
       "    }\n",
       "\n",
       "    .dataframe tbody tr th {\n",
       "        vertical-align: top;\n",
       "    }\n",
       "\n",
       "    .dataframe thead th {\n",
       "        text-align: right;\n",
       "    }\n",
       "</style>\n",
       "<table border=\"1\" class=\"dataframe\">\n",
       "  <thead>\n",
       "    <tr style=\"text-align: right;\">\n",
       "      <th></th>\n",
       "      <th>Sr No</th>\n",
       "      <th>AGE</th>\n",
       "      <th>Time</th>\n",
       "      <th>Input (X)</th>\n",
       "      <th>Output (y)</th>\n",
       "      <th>HR</th>\n",
       "      <th>Height</th>\n",
       "      <th>Weight</th>\n",
       "    </tr>\n",
       "  </thead>\n",
       "  <tbody>\n",
       "    <tr>\n",
       "      <th>0</th>\n",
       "      <td>52</td>\n",
       "      <td>Under-1</td>\n",
       "      <td>12:00:00 PM</td>\n",
       "      <td>36.8</td>\n",
       "      <td>37.2</td>\n",
       "      <td>144</td>\n",
       "      <td>47</td>\n",
       "      <td>2.5</td>\n",
       "    </tr>\n",
       "  </tbody>\n",
       "</table>\n",
       "</div>"
      ],
      "text/plain": [
       "   Sr No      AGE         Time  Input (X)  Output (y)   HR  Height  Weight\n",
       "0     52  Under-1  12:00:00 PM       36.8        37.2  144      47     2.5"
      ]
     },
     "execution_count": 17,
     "metadata": {},
     "output_type": "execute_result"
    }
   ],
   "source": [
    "#MODE\n",
    "mode = df.mode()\n",
    "mode"
   ]
  },
  {
   "cell_type": "code",
   "execution_count": 18,
   "id": "8237e476",
   "metadata": {},
   "outputs": [
    {
     "data": {
      "text/plain": [
       "Sr No         107.022087\n",
       "Input (X)      62.668628\n",
       "Output (y)     56.238118\n",
       "HR            351.803730\n",
       "Height         56.925154\n",
       "Weight          3.978147\n",
       "dtype: float64"
      ]
     },
     "execution_count": 18,
     "metadata": {},
     "output_type": "execute_result"
    }
   ],
   "source": [
    "# Define the upper and lower bounds\n",
    "\n",
    "upper_bound = mean + 3 * standard\n",
    "\n",
    "upper_bound"
   ]
  },
  {
   "cell_type": "code",
   "execution_count": 19,
   "id": "6375f06a",
   "metadata": {},
   "outputs": [
    {
     "data": {
      "text/plain": [
       "Sr No        -18.599189\n",
       "Input (X)     11.025111\n",
       "Output (y)    17.620157\n",
       "HR           -57.332889\n",
       "Height        34.574667\n",
       "Weight         0.866411\n",
       "dtype: float64"
      ]
     },
     "execution_count": 19,
     "metadata": {},
     "output_type": "execute_result"
    }
   ],
   "source": [
    "lower_bound = mean - 3 * standard\n",
    "\n",
    "lower_bound"
   ]
  },
  {
   "cell_type": "code",
   "execution_count": 20,
   "id": "53f1c642",
   "metadata": {},
   "outputs": [
    {
     "name": "stdout",
     "output_type": "stream",
     "text": [
      "Int64Index([   0,    1,    2,    3,    4,    5,    6,    7,    8,    9,\n",
      "            ...\n",
      "            2785, 2786, 2787, 2788, 2789, 2790, 2791, 2792, 2793, 2794],\n",
      "           dtype='int64', length=2795)\n"
     ]
    },
    {
     "name": "stderr",
     "output_type": "stream",
     "text": [
      "/var/folders/k7/g4wn_mkn3mb4_83c39g3w7n00000gn/T/ipykernel_16030/2347500830.py:2: FutureWarning: Automatic reindexing on DataFrame vs Series comparisons is deprecated and will raise ValueError in a future version. Do `left, right = left.align(right, axis=1, copy=False)` before e.g. `left == right`\n",
      "  outliers = df[(df > upper_bound) | (df < lower_bound)]\n"
     ]
    }
   ],
   "source": [
    "# Select the outliers\n",
    "outliers = df[(df > upper_bound) | (df < lower_bound)]\n",
    "\n",
    "# Print the rows containing the outliers\n",
    "print(outliers.index)"
   ]
  },
  {
   "cell_type": "code",
   "execution_count": 28,
   "id": "213759be",
   "metadata": {},
   "outputs": [
    {
     "data": {
      "text/plain": [
       "<AxesSubplot:xlabel='Input (X)', ylabel='Output (y)'>"
      ]
     },
     "execution_count": 28,
     "metadata": {},
     "output_type": "execute_result"
    },
    {
     "data": {
      "image/png": "[encoded data removed]",
      "text/plain": [
       "<Figure size 432x288 with 1 Axes>"
      ]
     },
     "metadata": {
      "needs_background": "light"
     },
     "output_type": "display_data"
    }
   ],
   "source": [
    "# Create a box plot of input and output\n",
    "sns.boxplot(x='Input (X)', y='Output (y)',data=df)"
   ]
  },
  {
   "cell_type": "code",
   "execution_count": 22,
   "id": "2b118403",
   "metadata": {},
   "outputs": [
    {
     "data": {
      "text/plain": [
       "0       Under-1\n",
       "1       Under-1\n",
       "2       Under-1\n",
       "3       Under-1\n",
       "4       Under-1\n",
       "         ...   \n",
       "2790    Under-4\n",
       "2791    Under-4\n",
       "2792    Under-4\n",
       "2793    Under-4\n",
       "2794    Under-4\n",
       "Name: AGE, Length: 2795, dtype: object"
      ]
     },
     "execution_count": 22,
     "metadata": {},
     "output_type": "execute_result"
    }
   ],
   "source": [
    "# Calculate the mean and std deviation of Age and time column\n",
    "#AGE\t\n",
    "data = df.iloc[: ,1]\n",
    "data"
   ]
  },
  {
   "cell_type": "code",
   "execution_count": 23,
   "id": "97a6706b",
   "metadata": {},
   "outputs": [
    {
     "data": {
      "text/plain": [
       "0       3:00:00 AM\n",
       "1       4:00:00 AM\n",
       "2       5:00:00 AM\n",
       "3       6:00:00 AM\n",
       "4       7:00:00 AM\n",
       "           ...    \n",
       "2790    7:00:00 PM\n",
       "2791    7:30:00 PM\n",
       "2792    8:00:00 PM\n",
       "2793    8:30:00 PM\n",
       "2794    9:00:00 PM\n",
       "Name: Time, Length: 2795, dtype: object"
      ]
     },
     "execution_count": 23,
     "metadata": {},
     "output_type": "execute_result"
    }
   ],
   "source": [
    "# time \n",
    "data1 = df.iloc[: ,2]\n",
    "data1"
   ]
  },
  {
   "cell_type": "code",
   "execution_count": 24,
   "id": "c7734060",
   "metadata": {},
   "outputs": [
    {
     "name": "stderr",
     "output_type": "stream",
     "text": [
      "/var/folders/k7/g4wn_mkn3mb4_83c39g3w7n00000gn/T/ipykernel_16030/2960310620.py:2: FutureWarning: Dropping of nuisance columns in DataFrame reductions (with 'numeric_only=None') is deprecated; in a future version this will raise TypeError.  Select only valid columns before calling the reduction.\n",
      "  df.skew()\n"
     ]
    },
    {
     "data": {
      "text/plain": [
       "Sr No         -0.438741\n",
       "Input (X)     36.985983\n",
       "Output (y)    50.975743\n",
       "HR            35.038760\n",
       "Height        -1.127887\n",
       "Weight        -0.720524\n",
       "dtype: float64"
      ]
     },
     "execution_count": 24,
     "metadata": {},
     "output_type": "execute_result"
    }
   ],
   "source": [
    "# SKEWNESS\n",
    "df.skew()"
   ]
  },
  {
   "cell_type": "code",
   "execution_count": 25,
   "id": "865df7aa",
   "metadata": {
    "scrolled": true
   },
   "outputs": [
    {
     "data": {
      "text/plain": [
       "(array([1758.,    0.,    0.,  574.,    0.,    0.,  202.,    0.,    0.,\n",
       "         261.]),\n",
       " array([0. , 0.3, 0.6, 0.9, 1.2, 1.5, 1.8, 2.1, 2.4, 2.7, 3. ]),\n",
       " <BarContainer object of 10 artists>)"
      ]
     },
     "execution_count": 25,
     "metadata": {},
     "output_type": "execute_result"
    },
    {
     "data": {
      "image/png": "[encoded data removed]",
      "text/plain": [
       "<Figure size 432x288 with 1 Axes>"
      ]
     },
     "metadata": {
      "needs_background": "light"
     },
     "output_type": "display_data"
    }
   ],
   "source": [
    "# create histogram of 'Age' column\n",
    "plt.hist(df['AGE'])\n",
    " # POSITIVE or RIGHT SKEWED"
   ]
  },
  {
   "cell_type": "code",
   "execution_count": 26,
   "id": "b27efd25",
   "metadata": {},
   "outputs": [
    {
     "data": {
      "text/plain": [
       "(array([699., 780., 588., 126., 106., 168.,  97.,  97.,  85.,  49.]),\n",
       " array([ 0. ,  8.5, 17. , 25.5, 34. , 42.5, 51. , 59.5, 68. , 76.5, 85. ]),\n",
       " <BarContainer object of 10 artists>)"
      ]
     },
     "execution_count": 26,
     "metadata": {},
     "output_type": "execute_result"
    },
    {
     "data": {
      "image/png": "[encoded data removed]",
      "text/plain": [
       "<Figure size 432x288 with 1 Axes>"
      ]
     },
     "metadata": {
      "needs_background": "light"
     },
     "output_type": "display_data"
    }
   ],
   "source": [
    "# create histogram of 'Age' column\n",
    "plt.hist(df['Time'])\n",
    " # POSITIVE or RIGHT SKEWED"
   ]
  },
  {
   "cell_type": "code",
   "execution_count": 27,
   "id": "357d2088",
   "metadata": {},
   "outputs": [
    {
     "name": "stderr",
     "output_type": "stream",
     "text": [
      "/var/folders/k7/g4wn_mkn3mb4_83c39g3w7n00000gn/T/ipykernel_16030/1298500927.py:2: FutureWarning: Dropping of nuisance columns in DataFrame reductions (with 'numeric_only=None') is deprecated; in a future version this will raise TypeError.  Select only valid columns before calling the reduction.\n",
      "  df.kurt()\n"
     ]
    },
    {
     "data": {
      "text/plain": [
       "Sr No           -0.956537\n",
       "Input (X)     1378.938522\n",
       "Output (y)    2663.112840\n",
       "HR            1433.584779\n",
       "Height           1.678764\n",
       "Weight           0.894742\n",
       "dtype: float64"
      ]
     },
     "execution_count": 27,
     "metadata": {},
     "output_type": "execute_result"
    }
   ],
   "source": [
    "#KURTOSIS \n",
    "df.kurt()"
   ]
  },
  {
   "cell_type": "code",
   "execution_count": 29,
   "id": "7326e8a4",
   "metadata": {},
   "outputs": [
    {
     "data": {
      "text/plain": [
       "<matplotlib.collections.PathCollection at 0x7fe7148832b0>"
      ]
     },
     "execution_count": 29,
     "metadata": {},
     "output_type": "execute_result"
    },
    {
     "data": {
      "image/png": "[encoded data removed]",
      "text/plain": [
       "<Figure size 432x288 with 1 Axes>"
      ]
     },
     "metadata": {
      "needs_background": "light"
     },
     "output_type": "display_data"
    }
   ],
   "source": [
    "# Scatter \n",
    "\n",
    "plt.scatter(x=df['AGE'],y=df['Time'])"
   ]
  },
  {
   "cell_type": "code",
   "execution_count": null,
   "id": "38c0b95e",
   "metadata": {},
   "outputs": [],
   "source": [
    "help()"
   ]
  }
 ],
 "metadata": {
  "kernelspec": {
   "display_name": "Python 3 (ipykernel)",
   "language": "python",
   "name": "python3"
  },
  "language_info": {
   "codemirror_mode": {
    "name": "ipython",
    "version": 3
   },
   "file_extension": ".py",
   "mimetype": "text/x-python",
   "name": "python",
   "nbconvert_exporter": "python",
   "pygments_lexer": "ipython3",
   "version": "3.9.12"
  }
 },
 "nbformat": 4,
 "nbformat_minor": 5
}
